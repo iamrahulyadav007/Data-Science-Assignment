{
 "cells": [
  {
   "cell_type": "code",
   "execution_count": 1,
   "id": "38297411",
   "metadata": {},
   "outputs": [],
   "source": [
    "# 1. What exactly is []?\n",
    "# ans. [ ] is a empty list"
   ]
  },
  {
   "cell_type": "code",
   "execution_count": 2,
   "id": "235b26eb",
   "metadata": {},
   "outputs": [
    {
     "name": "stdout",
     "output_type": "stream",
     "text": [
      "[2, 4, 'hello', 8, 10]\n"
     ]
    }
   ],
   "source": [
    "# 2. In a list of values stored in a variable called spam, how would you assign the value 'hello' as the third value? (Assume [2, 4, 6, 8, 10] are in spam.)\n",
    "spam = [2, 4, 6, 8, 10]\n",
    "spam[2] = 'hello'\n",
    "print(spam)"
   ]
  },
  {
   "cell_type": "code",
   "execution_count": 6,
   "id": "a6afd26b",
   "metadata": {},
   "outputs": [
    {
     "data": {
      "text/plain": [
       "'d'"
      ]
     },
     "execution_count": 6,
     "metadata": {},
     "output_type": "execute_result"
    }
   ],
   "source": [
    "#3. What is the value of spam[int(int('3' * 2) / 11)]?\n",
    "spam = ['a', 'b','c','d']\n",
    "spam[int(int('3' * 2) / 11)]"
   ]
  },
  {
   "cell_type": "code",
   "execution_count": 7,
   "id": "0a8e8fff",
   "metadata": {},
   "outputs": [
    {
     "data": {
      "text/plain": [
       "'d'"
      ]
     },
     "execution_count": 7,
     "metadata": {},
     "output_type": "execute_result"
    }
   ],
   "source": [
    "# 4. What is the value of spam[-1]?\n",
    "spam[-1]"
   ]
  },
  {
   "cell_type": "code",
   "execution_count": 8,
   "id": "61bf32e4",
   "metadata": {},
   "outputs": [
    {
     "data": {
      "text/plain": [
       "['a', 'b']"
      ]
     },
     "execution_count": 8,
     "metadata": {},
     "output_type": "execute_result"
    }
   ],
   "source": [
    "# 5. What is the value of spam[:2]?\n",
    "spam[:2]"
   ]
  },
  {
   "cell_type": "code",
   "execution_count": 9,
   "id": "2640a5fb",
   "metadata": {},
   "outputs": [
    {
     "data": {
      "text/plain": [
       "1"
      ]
     },
     "execution_count": 9,
     "metadata": {},
     "output_type": "execute_result"
    }
   ],
   "source": [
    "# 6. What is the value of bacon.index('cat')?\n",
    "bacon = [3.14, 'cat', 11, 'cat', True]\n",
    "bacon.index('cat')"
   ]
  },
  {
   "cell_type": "code",
   "execution_count": 10,
   "id": "968fff8b",
   "metadata": {},
   "outputs": [],
   "source": [
    "# returns the index of first occurrence of 'cat'"
   ]
  },
  {
   "cell_type": "code",
   "execution_count": 12,
   "id": "c105a357",
   "metadata": {},
   "outputs": [
    {
     "name": "stdout",
     "output_type": "stream",
     "text": [
      "[3.14, 'cat', 11, 'cat', True, 99, 99]\n"
     ]
    }
   ],
   "source": [
    "# 7. How does bacon.append(99) change the look of the list value in bacon?\n",
    "bacon.append(99)\n",
    "print(bacon)"
   ]
  },
  {
   "cell_type": "code",
   "execution_count": 13,
   "id": "6606f138",
   "metadata": {},
   "outputs": [],
   "source": [
    "# add 99 at the end of the list"
   ]
  },
  {
   "cell_type": "code",
   "execution_count": 15,
   "id": "0a6c93f9",
   "metadata": {},
   "outputs": [
    {
     "name": "stdout",
     "output_type": "stream",
     "text": [
      "[3.14, 11, 'cat', True, 99, 99]\n",
      "[3.14, 11, True, 99, 99]\n"
     ]
    }
   ],
   "source": [
    "# 8. How does bacon.remove('cat') change the look of the list in bacon?\n",
    "print(bacon)\n",
    "bacon.remove('cat')\n",
    "print(bacon)"
   ]
  },
  {
   "cell_type": "code",
   "execution_count": 16,
   "id": "8b7d70da",
   "metadata": {},
   "outputs": [],
   "source": [
    "# remove first occurrence of cat"
   ]
  },
  {
   "cell_type": "code",
   "execution_count": 17,
   "id": "1980c544",
   "metadata": {},
   "outputs": [
    {
     "data": {
      "text/plain": [
       "['a', 'b', 'c', 'd']"
      ]
     },
     "execution_count": 17,
     "metadata": {},
     "output_type": "execute_result"
    }
   ],
   "source": [
    "# 9. What are the list concatenation and list replication operators?\n",
    "list1 = ['a','b']\n",
    "list2 = ['c','d']\n",
    "# list concatination\n",
    "list1+list2"
   ]
  },
  {
   "cell_type": "code",
   "execution_count": null,
   "id": "a5658c65",
   "metadata": {},
   "outputs": [],
   "source": [
    "# simply add two list"
   ]
  },
  {
   "cell_type": "code",
   "execution_count": 19,
   "id": "53c6b631",
   "metadata": {},
   "outputs": [
    {
     "data": {
      "text/plain": [
       "['a', 'b', 'a', 'b', 'a', 'b', 'a', 'b', 'a', 'b']"
      ]
     },
     "execution_count": 19,
     "metadata": {},
     "output_type": "execute_result"
    }
   ],
   "source": [
    "list3 = ['a','b']\n",
    "# list replication\n",
    "list3*5"
   ]
  },
  {
   "cell_type": "code",
   "execution_count": 20,
   "id": "103683c2",
   "metadata": {},
   "outputs": [],
   "source": [
    "# repeat 5 time of list elements"
   ]
  },
  {
   "cell_type": "code",
   "execution_count": 23,
   "id": "86669629",
   "metadata": {},
   "outputs": [
    {
     "name": "stdout",
     "output_type": "stream",
     "text": [
      "[1, 2, 3, 4, 5, 6, 7, 8]\n"
     ]
    }
   ],
   "source": [
    "# 10. What is difference between the list methods append() and insert()?\n",
    "list4 = [1,2,3,4,5,6,7]\n",
    "list4.append(8)\n",
    "print(list4)"
   ]
  },
  {
   "cell_type": "code",
   "execution_count": 24,
   "id": "fa62696b",
   "metadata": {},
   "outputs": [],
   "source": [
    "# simple add 8 at the end of list"
   ]
  },
  {
   "cell_type": "code",
   "execution_count": 25,
   "id": "c183be54",
   "metadata": {},
   "outputs": [
    {
     "name": "stdout",
     "output_type": "stream",
     "text": [
      "['first', 1, 2, 3, 4, 5, 6, 7, 8]\n"
     ]
    }
   ],
   "source": [
    "list4.insert(0,'first')\n",
    "print(list4)"
   ]
  },
  {
   "cell_type": "code",
   "execution_count": 26,
   "id": "0b46738c",
   "metadata": {},
   "outputs": [],
   "source": [
    "# inserts element at particular index"
   ]
  },
  {
   "cell_type": "code",
   "execution_count": 27,
   "id": "1f650bdd",
   "metadata": {},
   "outputs": [
    {
     "name": "stdout",
     "output_type": "stream",
     "text": [
      "['first', 1, 2, 3, 4, 5, 6, 7]\n"
     ]
    }
   ],
   "source": [
    "# 11. What are the two methods for removing items from a list?\n",
    "list4 \n",
    "list4.remove(8) # remove at a particular elements\n",
    "print(list4)"
   ]
  },
  {
   "cell_type": "code",
   "execution_count": 28,
   "id": "66756ff9",
   "metadata": {},
   "outputs": [
    {
     "name": "stdout",
     "output_type": "stream",
     "text": [
      "['first', 1, 2, 3, 4, 5, 6]\n"
     ]
    }
   ],
   "source": [
    "list4 \n",
    "list4.pop() # simple remove the last elements\n",
    "print(list4) "
   ]
  },
  {
   "cell_type": "code",
   "execution_count": 29,
   "id": "50b96816",
   "metadata": {},
   "outputs": [],
   "source": [
    "# 12. Describe how list values and string values are identical.\n",
    "# list are mutable and string are immutable that's main diffrance between both of them"
   ]
  },
  {
   "cell_type": "code",
   "execution_count": 30,
   "id": "229674cb",
   "metadata": {},
   "outputs": [],
   "source": [
    "# 13. What the difference between tuples and lists?\n",
    "#Lists are mutable where Tuples are immutable mean we can can not change the value\n"
   ]
  },
  {
   "cell_type": "code",
   "execution_count": 32,
   "id": "bdb9d9e1",
   "metadata": {},
   "outputs": [
    {
     "name": "stdout",
     "output_type": "stream",
     "text": [
      "(42,)\n"
     ]
    },
    {
     "data": {
      "text/plain": [
       "tuple"
      ]
     },
     "execution_count": 32,
     "metadata": {},
     "output_type": "execute_result"
    }
   ],
   "source": [
    "# 14. How do you type a tuple value that only contains the integer 42?\n",
    "t1 = (42,)\n",
    "print(t1)\n",
    "type(t1)"
   ]
  },
  {
   "cell_type": "code",
   "execution_count": 35,
   "id": "a6525c37",
   "metadata": {},
   "outputs": [
    {
     "name": "stdout",
     "output_type": "stream",
     "text": [
      "(2, 3, 4, 5, 6)\n"
     ]
    },
    {
     "data": {
      "text/plain": [
       "tuple"
      ]
     },
     "execution_count": 35,
     "metadata": {},
     "output_type": "execute_result"
    }
   ],
   "source": [
    "# 15. How do you get a list tuple form? How do you get a tuple value&#39;s list form?\n",
    "l2 = [2,3,4,5,6]\n",
    "l3 = tuple(l2)\n",
    "print(l3)\n",
    "type(l3)\n"
   ]
  },
  {
   "cell_type": "code",
   "execution_count": 36,
   "id": "c50a3881",
   "metadata": {},
   "outputs": [],
   "source": [
    "# 16. Variables that 'contain' list values are not necessarily lists themselves. Instead, what do they contain?\n",
    "# its just a name reference because list itself is a object."
   ]
  },
  {
   "cell_type": "code",
   "execution_count": 37,
   "id": "99ad4cb4",
   "metadata": {},
   "outputs": [],
   "source": [
    "# 17. How do you distinguish between copy.copy() and copy.deepcopy()?\n",
    "# deepcopy does not change original object if in future we change deepcopied object. where as original object changes with copy()"
   ]
  },
  {
   "cell_type": "code",
   "execution_count": null,
   "id": "b99453be",
   "metadata": {},
   "outputs": [],
   "source": []
  }
 ],
 "metadata": {
  "kernelspec": {
   "display_name": "Python 3 (ipykernel)",
   "language": "python",
   "name": "python3"
  },
  "language_info": {
   "codemirror_mode": {
    "name": "ipython",
    "version": 3
   },
   "file_extension": ".py",
   "mimetype": "text/x-python",
   "name": "python",
   "nbconvert_exporter": "python",
   "pygments_lexer": "ipython3",
   "version": "3.10.4"
  }
 },
 "nbformat": 4,
 "nbformat_minor": 5
}
