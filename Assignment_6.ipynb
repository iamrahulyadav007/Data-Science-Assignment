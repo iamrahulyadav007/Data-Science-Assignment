{
 "cells": [
  {
   "cell_type": "code",
   "execution_count": 1,
   "id": "6aee81f5",
   "metadata": {},
   "outputs": [
    {
     "name": "stdout",
     "output_type": "stream",
     "text": [
      "Hi, I am doing \n",
      " fsds from \t INEURON \n"
     ]
    }
   ],
   "source": [
    "# 1. What are escape characters, and how do you use them?\n",
    "# Backslash \" \\ \" is a special character used to represent certain whitespace character like \\n, \\t, \\r like\n",
    "print(\"Hi, I am doing \\n fsds from \\t INEURON \")"
   ]
  },
  {
   "cell_type": "code",
   "execution_count": 2,
   "id": "7d32a3d0",
   "metadata": {},
   "outputs": [],
   "source": [
    "# 2. What do the escape characters n and t stand for?\n",
    "# \"\\t\" is a use as tab, \"\\n\" is a newline"
   ]
  },
  {
   "cell_type": "code",
   "execution_count": 3,
   "id": "9f6c54d5",
   "metadata": {},
   "outputs": [],
   "source": [
    "# 3. What is the way to include backslash characters in a string?\n",
    "# to include actual backslash we use \\ \\ "
   ]
  },
  {
   "cell_type": "code",
   "execution_count": 4,
   "id": "a79c94ee",
   "metadata": {},
   "outputs": [],
   "source": [
    "# 4. The string \"Howl's Moving Castle\" is a correct value. Why isn't the single quote character in the word Howl's not escaped a problem?\n",
    "# The single quote in Howl's is fine because you've used double quotes to mark the beginning and end of the string. like wise we can use double quotes in with single quotes"
   ]
  },
  {
   "cell_type": "code",
   "execution_count": 6,
   "id": "ef8ef560",
   "metadata": {},
   "outputs": [
    {
     "name": "stdout",
     "output_type": "stream",
     "text": [
      "Hello\n",
      "INEURON Family\n"
     ]
    }
   ],
   "source": [
    "# 5. How do you write a string of newlines if you don't want to use the n character?\n",
    "print(\"Hello\", end = \"\\n\")\n",
    "print(\"INEURON Family\")"
   ]
  },
  {
   "cell_type": "code",
   "execution_count": 8,
   "id": "2c05a402",
   "metadata": {},
   "outputs": [
    {
     "data": {
      "text/plain": [
       "'e'"
      ]
     },
     "execution_count": 8,
     "metadata": {},
     "output_type": "execute_result"
    }
   ],
   "source": [
    "# 6. What are the values of the given expressions?\n",
    "'Hello, world!'[1] # give the value of 1 position "
   ]
  },
  {
   "cell_type": "code",
   "execution_count": 9,
   "id": "9599b3dc",
   "metadata": {},
   "outputs": [
    {
     "data": {
      "text/plain": [
       "'Hello'"
      ]
     },
     "execution_count": 9,
     "metadata": {},
     "output_type": "execute_result"
    }
   ],
   "source": [
    "'Hello, world!'[0:5] # give the value 0 to 4 position"
   ]
  },
  {
   "cell_type": "code",
   "execution_count": 10,
   "id": "da78299e",
   "metadata": {},
   "outputs": [
    {
     "data": {
      "text/plain": [
       "'Hello'"
      ]
     },
     "execution_count": 10,
     "metadata": {},
     "output_type": "execute_result"
    }
   ],
   "source": [
    "'Hello, world!'[:5] # start from 0 till 4 position"
   ]
  },
  {
   "cell_type": "code",
   "execution_count": 11,
   "id": "2d0e8456",
   "metadata": {},
   "outputs": [
    {
     "data": {
      "text/plain": [
       "'lo, world!'"
      ]
     },
     "execution_count": 11,
     "metadata": {},
     "output_type": "execute_result"
    }
   ],
   "source": [
    "'Hello, world!'[3:] # start from 0 till the end"
   ]
  },
  {
   "cell_type": "code",
   "execution_count": 12,
   "id": "bd95ea6e",
   "metadata": {},
   "outputs": [
    {
     "data": {
      "text/plain": [
       "'HELLO'"
      ]
     },
     "execution_count": 12,
     "metadata": {},
     "output_type": "execute_result"
    }
   ],
   "source": [
    "# 7. What are the values of the following expressions?\n",
    "'Hello'.upper() # convert all value in to upper case"
   ]
  },
  {
   "cell_type": "code",
   "execution_count": 13,
   "id": "8265273c",
   "metadata": {},
   "outputs": [
    {
     "data": {
      "text/plain": [
       "True"
      ]
     },
     "execution_count": 13,
     "metadata": {},
     "output_type": "execute_result"
    }
   ],
   "source": [
    "'Hello'.upper().isupper() # first it will convert hello in to upper case then find out is it in upper case or not or gie the value in bool"
   ]
  },
  {
   "cell_type": "code",
   "execution_count": 14,
   "id": "807801d8",
   "metadata": {},
   "outputs": [
    {
     "data": {
      "text/plain": [
       "'hello'"
      ]
     },
     "execution_count": 14,
     "metadata": {},
     "output_type": "execute_result"
    }
   ],
   "source": [
    "'Hello'.upper().lower() # Hello convert in to upper case then lower"
   ]
  },
  {
   "cell_type": "code",
   "execution_count": 19,
   "id": "76d9f007",
   "metadata": {},
   "outputs": [
    {
     "data": {
      "text/plain": [
       "['Remember,', 'remember,', 'the', 'fifth', 'of', 'July.']"
      ]
     },
     "execution_count": 19,
     "metadata": {},
     "output_type": "execute_result"
    }
   ],
   "source": [
    "# 8. What are the values of the following expressions?\n",
    "'Remember, remember, the fifth of July.'.split() # split by space"
   ]
  },
  {
   "cell_type": "code",
   "execution_count": 22,
   "id": "7af0f4e2",
   "metadata": {},
   "outputs": [
    {
     "data": {
      "text/plain": [
       "'There-can-only-one.'"
      ]
     },
     "execution_count": 22,
     "metadata": {},
     "output_type": "execute_result"
    }
   ],
   "source": [
    "'-'.join('There can only one.'.split()) # first it will split by space then join by -"
   ]
  },
  {
   "cell_type": "code",
   "execution_count": 25,
   "id": "543a4528",
   "metadata": {},
   "outputs": [
    {
     "data": {
      "text/plain": [
       "'Rahul Yadav#########'"
      ]
     },
     "execution_count": 25,
     "metadata": {},
     "output_type": "execute_result"
    }
   ],
   "source": [
    "# 9. What are the methods for right-justifying, left-justifying, and centering a string?\n",
    "# left justified\n",
    "l_exm =\"Rahul Yadav\"\n",
    "l_exm.ljust(20,\"#\")"
   ]
  },
  {
   "cell_type": "code",
   "execution_count": 26,
   "id": "3c50731d",
   "metadata": {},
   "outputs": [
    {
     "data": {
      "text/plain": [
       "'#########Rahul Yadav'"
      ]
     },
     "execution_count": 26,
     "metadata": {},
     "output_type": "execute_result"
    }
   ],
   "source": [
    "# right justified\n",
    "l_exm =\"Rahul Yadav\"\n",
    "l_exm.rjust(20,\"#\")"
   ]
  },
  {
   "cell_type": "code",
   "execution_count": 28,
   "id": "6887cff7",
   "metadata": {},
   "outputs": [
    {
     "data": {
      "text/plain": [
       "'####Rahul Yadav#####'"
      ]
     },
     "execution_count": 28,
     "metadata": {},
     "output_type": "execute_result"
    }
   ],
   "source": [
    "# center justified\n",
    "l_exm =\"Rahul Yadav\"\n",
    "l_exm.center(20,\"#\")"
   ]
  },
  {
   "cell_type": "code",
   "execution_count": 33,
   "id": "10a9701e",
   "metadata": {},
   "outputs": [
    {
     "data": {
      "text/plain": [
       "'removing space example'"
      ]
     },
     "execution_count": 33,
     "metadata": {},
     "output_type": "execute_result"
    }
   ],
   "source": [
    "# 10. What is the best way to remove whitespace characters from the start or end?\n",
    "# end remove space\n",
    "lst =\"  removing space example  \"\n",
    "lst.strip()"
   ]
  },
  {
   "cell_type": "code",
   "execution_count": null,
   "id": "4a781ce7",
   "metadata": {},
   "outputs": [],
   "source": []
  },
  {
   "cell_type": "code",
   "execution_count": null,
   "id": "21dcde26",
   "metadata": {},
   "outputs": [],
   "source": []
  },
  {
   "cell_type": "code",
   "execution_count": null,
   "id": "ecda9137",
   "metadata": {},
   "outputs": [],
   "source": []
  },
  {
   "cell_type": "code",
   "execution_count": null,
   "id": "dce1f9cb",
   "metadata": {},
   "outputs": [],
   "source": []
  },
  {
   "cell_type": "code",
   "execution_count": null,
   "id": "c0a7df48",
   "metadata": {},
   "outputs": [],
   "source": []
  },
  {
   "cell_type": "code",
   "execution_count": null,
   "id": "fa5cfe71",
   "metadata": {},
   "outputs": [],
   "source": []
  },
  {
   "cell_type": "code",
   "execution_count": null,
   "id": "fc09fd19",
   "metadata": {},
   "outputs": [],
   "source": []
  }
 ],
 "metadata": {
  "kernelspec": {
   "display_name": "Python 3 (ipykernel)",
   "language": "python",
   "name": "python3"
  },
  "language_info": {
   "codemirror_mode": {
    "name": "ipython",
    "version": 3
   },
   "file_extension": ".py",
   "mimetype": "text/x-python",
   "name": "python",
   "nbconvert_exporter": "python",
   "pygments_lexer": "ipython3",
   "version": "3.10.4"
  }
 },
 "nbformat": 4,
 "nbformat_minor": 5
}
