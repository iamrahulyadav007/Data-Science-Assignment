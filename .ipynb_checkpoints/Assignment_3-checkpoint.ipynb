{
 "cells": [
  {
   "cell_type": "code",
   "execution_count": 2,
   "id": "75189115",
   "metadata": {},
   "outputs": [
    {
     "data": {
      "text/plain": [
       "'\\nans. Functions reduce the need for duplicate code. This makes programs shorter, easier to read, and easier to update. we do not need to write every time\\n'"
      ]
     },
     "execution_count": 2,
     "metadata": {},
     "output_type": "execute_result"
    }
   ],
   "source": [
    "# 1. Why are functions advantageous to have in your programs?\n",
    "'''\n",
    "ans. Functions reduce the need for duplicate code. This makes programs shorter, easier to read, and easier to update. we do not need to write every time\n",
    "'''"
   ]
  },
  {
   "cell_type": "code",
   "execution_count": 4,
   "id": "48231126",
   "metadata": {},
   "outputs": [
    {
     "data": {
      "text/plain": [
       "'\\nans. when we called the function.\\n'"
      ]
     },
     "execution_count": 4,
     "metadata": {},
     "output_type": "execute_result"
    }
   ],
   "source": [
    "# 2. When does the code in a function run: when it&#39;s specified or when it&#39;s called?\n",
    "'''\n",
    "ans. when we called the function.\n",
    "'''"
   ]
  },
  {
   "cell_type": "code",
   "execution_count": 6,
   "id": "7ecad94b",
   "metadata": {},
   "outputs": [],
   "source": [
    "# 3. What statement creates a function?\n",
    "'''\n",
    " ans. The def statement use to create a function.\n",
    "'''\n",
    "def function_name(input):\n",
    "    print('condition')"
   ]
  },
  {
   "cell_type": "code",
   "execution_count": 8,
   "id": "3b5242d9",
   "metadata": {},
   "outputs": [
    {
     "name": "stdout",
     "output_type": "stream",
     "text": [
      "condition\n"
     ]
    }
   ],
   "source": [
    "# 4. What is the difference between a function and a function call?\n",
    "#def of func\n",
    "def function_name(input):\n",
    "    print('condition')\n",
    "\n",
    "function_name(input) # calling the function"
   ]
  },
  {
   "cell_type": "code",
   "execution_count": 9,
   "id": "3ebd89dd",
   "metadata": {},
   "outputs": [
    {
     "data": {
      "text/plain": [
       "\"\\nAns .There's only one global Python scope per program execution. This scope remains in existence until the program terminates , and a local scope is created whenever a function is called.\\n\""
      ]
     },
     "execution_count": 9,
     "metadata": {},
     "output_type": "execute_result"
    }
   ],
   "source": [
    "# 5. How many global scopes are there in a Python program? How many local scopes?\n",
    "'''\n",
    "Ans .There's only one global Python scope per program execution. This scope remains in existence until the program terminates , and a local scope is created whenever a function is called.\n",
    "'''"
   ]
  },
  {
   "cell_type": "code",
   "execution_count": 10,
   "id": "0869d450",
   "metadata": {},
   "outputs": [
    {
     "data": {
      "text/plain": [
       "'\\nAns. When a function returns, the local scope is finshied.\\n'"
      ]
     },
     "execution_count": 10,
     "metadata": {},
     "output_type": "execute_result"
    }
   ],
   "source": [
    "# Q6. What happens to variables in a local scope when the function call returns?\n",
    "'''\n",
    "Ans. When a function returns, the local scope is finshied.\n",
    "'''"
   ]
  },
  {
   "cell_type": "code",
   "execution_count": 11,
   "id": "347e5890",
   "metadata": {},
   "outputs": [
    {
     "data": {
      "text/plain": [
       "'\\nAns. A return value is the value that a function call evaluates to. Like any value, a return value can be used as part of an expression.\\n'"
      ]
     },
     "execution_count": 11,
     "metadata": {},
     "output_type": "execute_result"
    }
   ],
   "source": [
    "# 7. What is the concept of a return value? Is it possible to have a return value in an expression?\n",
    "'''\n",
    "Ans. A return value is the value that a function call evaluates to. Like any value, a return value can be used as part of an expression.\n",
    "'''"
   ]
  },
  {
   "cell_type": "code",
   "execution_count": 33,
   "id": "3e0fe95d",
   "metadata": {},
   "outputs": [
    {
     "data": {
      "text/plain": [
       "'\\nAns. It will not return anything.\\n'"
      ]
     },
     "execution_count": 33,
     "metadata": {},
     "output_type": "execute_result"
    }
   ],
   "source": [
    "# 8. If a function does not have a return statement, what is the return value of a call to that function?\n",
    "'''\n",
    "Ans. It will not return anything.\n",
    "'''"
   ]
  },
  {
   "cell_type": "code",
   "execution_count": 34,
   "id": "8ee1446e",
   "metadata": {},
   "outputs": [
    {
     "data": {
      "text/plain": [
       "'\\nAns. To make function variable as a global variable you can use the global keyword to declare which variables are global.\\n'"
      ]
     },
     "execution_count": 34,
     "metadata": {},
     "output_type": "execute_result"
    }
   ],
   "source": [
    "# 9. How do you make a function variable refer to the global variable?\n",
    "'''\n",
    "Ans. To make function variable as a global variable you can use the global keyword to declare which variables are global.\n",
    "'''"
   ]
  },
  {
   "cell_type": "code",
   "execution_count": 35,
   "id": "9b06a3dd",
   "metadata": {},
   "outputs": [
    {
     "data": {
      "text/plain": [
       "'\\nans. NoneType\\n'"
      ]
     },
     "execution_count": 35,
     "metadata": {},
     "output_type": "execute_result"
    }
   ],
   "source": [
    "# 10. What is the data type of None?\n",
    "'''\n",
    "ans. NoneType\n",
    "'''"
   ]
  },
  {
   "cell_type": "code",
   "execution_count": 36,
   "id": "98a98042",
   "metadata": {},
   "outputs": [
    {
     "data": {
      "text/plain": [
       "'\\nans. It will import areallyourpetnamederic module.\\n'"
      ]
     },
     "execution_count": 36,
     "metadata": {},
     "output_type": "execute_result"
    }
   ],
   "source": [
    "# 11. What does the sentence import areallyourpetsnamederic do?\n",
    "'''\n",
    "ans. It will import areallyourpetnamederic module.\n",
    "'''"
   ]
  },
  {
   "cell_type": "code",
   "execution_count": 37,
   "id": "5aaa58ac",
   "metadata": {},
   "outputs": [],
   "source": [
    "# 12. If you had a bacon() feature in a spam module, what would you call it after importing spam?\n",
    "# ans. spam.bacon()"
   ]
  },
  {
   "cell_type": "code",
   "execution_count": 38,
   "id": "50ff700f",
   "metadata": {},
   "outputs": [],
   "source": [
    "# 13. What can you do to save a programme from crashing if it encounters an error?\n",
    "# Ans. We can use try except clause to save a program from crashing."
   ]
  },
  {
   "cell_type": "code",
   "execution_count": 39,
   "id": "98285a4e",
   "metadata": {},
   "outputs": [
    {
     "data": {
      "text/plain": [
       "'\\nTRY CLAUSE: try clause is used when you think that program can crash so you try to run the program and it crashes it wont disturb other part of program\\n\\nEXCEPT CLAUSE: except clause is used when you are trying a certain part of program but it fails so it used as a response to exception.\\nfor example\\ntry:\\n    code\\nexcept:\\n    Executed if error in the code\\n    try this\\n\\n'"
      ]
     },
     "execution_count": 39,
     "metadata": {},
     "output_type": "execute_result"
    }
   ],
   "source": [
    "# 14. What is the purpose of the try clause? What is the purpose of the except clause?\n",
    "\"\"\"\n",
    "TRY CLAUSE: try clause is used when you think that program can crash so you try to run the program and it crashes it wont disturb other part of program\n",
    "\n",
    "EXCEPT CLAUSE: except clause is used when you are trying a certain part of program but it fails so it used as a response to exception.\n",
    "for example\n",
    "try:\n",
    "    code\n",
    "except:\n",
    "    Executed if error in the code\n",
    "    try this\n",
    "\n",
    "\"\"\""
   ]
  },
  {
   "cell_type": "code",
   "execution_count": null,
   "id": "90137f86",
   "metadata": {},
   "outputs": [],
   "source": []
  },
  {
   "cell_type": "code",
   "execution_count": null,
   "id": "b59e95da",
   "metadata": {},
   "outputs": [],
   "source": []
  }
 ],
 "metadata": {
  "kernelspec": {
   "display_name": "Python 3 (ipykernel)",
   "language": "python",
   "name": "python3"
  },
  "language_info": {
   "codemirror_mode": {
    "name": "ipython",
    "version": 3
   },
   "file_extension": ".py",
   "mimetype": "text/x-python",
   "name": "python",
   "nbconvert_exporter": "python",
   "pygments_lexer": "ipython3",
   "version": "3.10.4"
  }
 },
 "nbformat": 4,
 "nbformat_minor": 5
}
