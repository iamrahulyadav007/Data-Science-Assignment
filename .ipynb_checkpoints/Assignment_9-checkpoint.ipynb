{
 "cells": [
  {
   "cell_type": "code",
   "execution_count": 1,
   "id": "3134925f",
   "metadata": {},
   "outputs": [],
   "source": [
    "# 1. To what does a relative path refer?\n",
    "# the file which we are going to access that is called relative path  (PWD + relative path = absolute path)"
   ]
  },
  {
   "cell_type": "code",
   "execution_count": 2,
   "id": "6e1b5fab",
   "metadata": {},
   "outputs": [],
   "source": [
    "# 2. What does an absolute path start with your operating system?\n",
    "# Where as in Windows based systems absolute path starts with C:"
   ]
  },
  {
   "cell_type": "code",
   "execution_count": 3,
   "id": "49077032",
   "metadata": {},
   "outputs": [
    {
     "data": {
      "text/plain": [
       "'C:\\\\Users\\\\RAHUL\\\\Downloads\\\\Ds_full\\\\Data-Science-Assignment'"
      ]
     },
     "execution_count": 3,
     "metadata": {},
     "output_type": "execute_result"
    }
   ],
   "source": [
    "pwd "
   ]
  },
  {
   "cell_type": "code",
   "execution_count": 4,
   "id": "e8056a90",
   "metadata": {},
   "outputs": [
    {
     "name": "stdout",
     "output_type": "stream",
     "text": [
      "C:\\Users\\RAHUL\\Downloads\\Ds_full\\Data-Science-Assignment\n",
      "<built-in function chdir>\n"
     ]
    }
   ],
   "source": [
    "# 3. What do the functions os.getcwd() and os.chdir() do?\n",
    "import os\n",
    "print(os.getcwd()) # return current working directory\n",
    "print(os.chdir)    # method in Python used to change the current working"
   ]
  },
  {
   "cell_type": "code",
   "execution_count": 5,
   "id": "1497520b",
   "metadata": {},
   "outputs": [],
   "source": [
    "# 4. What are the . and .. folders?\n",
    "#these are not real folder but are special names for path\n",
    "#    (.) = this directory\n",
    "#    (..)= parent directory"
   ]
  },
  {
   "cell_type": "code",
   "execution_count": 6,
   "id": "b24e3fd7",
   "metadata": {},
   "outputs": [],
   "source": [
    "# 5. In C:\\bacon\\eggs\\spam.txt, which part is the dir name, and which part is the base name?\n",
    "# C:\\bacon\\eggs --> dir name\n",
    "# spam.txt --> base name"
   ]
  },
  {
   "cell_type": "code",
   "execution_count": 7,
   "id": "229ff413",
   "metadata": {},
   "outputs": [],
   "source": [
    "# 6. What are the three “mode” arguments that can be passed to the open() function?\n",
    "#Three mode arguments are:\n",
    "#    1. 'r' --> open for reading in text mode.\n",
    "#    2. 'w' --> open for writing.\n",
    "#    3. 'a' --> open for appending."
   ]
  },
  {
   "cell_type": "code",
   "execution_count": 8,
   "id": "205043e1",
   "metadata": {},
   "outputs": [],
   "source": [
    "# 7. What happens if an existing file is opened in write mode?\n",
    "# Using this mode will overwrite any existing content in a file. If the given file does not exist, a new one will be created."
   ]
  },
  {
   "cell_type": "code",
   "execution_count": 9,
   "id": "c0696004",
   "metadata": {},
   "outputs": [],
   "source": [
    "# 8. How do you tell the difference between read() and readlines()?\n",
    "#read()           it iterates over each character.\n",
    "#readlines()      read only single line of the file."
   ]
  },
  {
   "cell_type": "code",
   "execution_count": 10,
   "id": "dfe72ff2",
   "metadata": {},
   "outputs": [],
   "source": [
    "# 9. What data structure does a shelf value resemble?\n",
    "#  it contains key and values it represents dictionary."
   ]
  },
  {
   "cell_type": "code",
   "execution_count": null,
   "id": "621f41ca",
   "metadata": {},
   "outputs": [],
   "source": []
  },
  {
   "cell_type": "code",
   "execution_count": null,
   "id": "51af3071",
   "metadata": {},
   "outputs": [],
   "source": []
  }
 ],
 "metadata": {
  "kernelspec": {
   "display_name": "Python 3 (ipykernel)",
   "language": "python",
   "name": "python3"
  },
  "language_info": {
   "codemirror_mode": {
    "name": "ipython",
    "version": 3
   },
   "file_extension": ".py",
   "mimetype": "text/x-python",
   "name": "python",
   "nbconvert_exporter": "python",
   "pygments_lexer": "ipython3",
   "version": "3.9.12"
  }
 },
 "nbformat": 4,
 "nbformat_minor": 5
}
