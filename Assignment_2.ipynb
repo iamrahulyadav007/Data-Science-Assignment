{
 "cells": [
  {
   "cell_type": "code",
   "execution_count": 3,
   "id": "2044b2f0",
   "metadata": {},
   "outputs": [
    {
     "data": {
      "text/plain": [
       "'ans. True\\n     False\\n'"
      ]
     },
     "execution_count": 3,
     "metadata": {},
     "output_type": "execute_result"
    }
   ],
   "source": [
    "# 1.What are the two values of the Boolean data type? How do you write them?\n",
    "'''ans. True\n",
    "     False\n",
    "'''"
   ]
  },
  {
   "cell_type": "code",
   "execution_count": 4,
   "id": "4908589c",
   "metadata": {},
   "outputs": [
    {
     "data": {
      "text/plain": [
       "'\\nnot \\nor \\nand\\n'"
      ]
     },
     "execution_count": 4,
     "metadata": {},
     "output_type": "execute_result"
    }
   ],
   "source": [
    "# 2. What are the three different types of Boolean operators?\n",
    "'''\n",
    "not \n",
    "or \n",
    "and\n",
    "'''"
   ]
  },
  {
   "cell_type": "code",
   "execution_count": null,
   "id": "33670de7",
   "metadata": {},
   "outputs": [],
   "source": [
    "# 3. Make a list of each Boolean operator&#39;s truth tables (i.e. every possible combination of Boolean values for the operator and what it evaluate ).\n",
    "'''\n",
    "not : input 1, output 0\n",
    "      input 0, output 1\n",
    "      \n",
    "or  : inputs 0,0 output 0\n",
    "      inputs 0,1 output 1\n",
    "      inputs 1,0 output 1\n",
    "      inputs 1,1 output 1\n",
    "      \n",
    "and : inputs 0,0 output 0\n",
    "      inputs 0,1 output 0\n",
    "      inputs 1,0 output 0\n",
    "      inputs 1,1 output 1\n",
    "      \n",
    "0 = False, 1 = True\n",
    "\n",
    "'''"
   ]
  },
  {
   "cell_type": "code",
   "execution_count": 7,
   "id": "8142b76b",
   "metadata": {},
   "outputs": [
    {
     "name": "stdout",
     "output_type": "stream",
     "text": [
      "True\n",
      "False\n",
      "True\n",
      "False\n",
      "False\n",
      "True\n"
     ]
    }
   ],
   "source": [
    "# 4. What are the values of the following expressions?\n",
    "print(5 > 4) and (3 == 5)\n",
    "print(not(5>4))\n",
    "print((5>4) or (3==5))\n",
    "print(not(5>4) or (3==5))\n",
    "print((True and True) and (True==False))\n",
    "print((not(False))or(not(True)))"
   ]
  },
  {
   "cell_type": "code",
   "execution_count": 8,
   "id": "e58fe88b",
   "metadata": {},
   "outputs": [
    {
     "data": {
      "text/plain": [
       "'Ans . ==, !=, <, >, <=, and >='"
      ]
     },
     "execution_count": 8,
     "metadata": {},
     "output_type": "execute_result"
    }
   ],
   "source": [
    "# 5. What are the six comparison operators?\n",
    "'''Ans . ==, !=, <, >, <=, and >='''"
   ]
  },
  {
   "cell_type": "code",
   "execution_count": 9,
   "id": "4474e9a3",
   "metadata": {},
   "outputs": [
    {
     "data": {
      "text/plain": [
       "'ans. == is the equal to operator that compares two values and evaluates to a Boolean, while = is the assignment operator that stores a value in a variable.'"
      ]
     },
     "execution_count": 9,
     "metadata": {},
     "output_type": "execute_result"
    }
   ],
   "source": [
    "# Q6. How do you tell the difference between the equal to and assignment operators?Describe a condition and when you would use one.\n",
    "'''ans. == is the equal to operator that compares two values and evaluates to a Boolean, while = is the assignment operator that stores a value in a variable.'''"
   ]
  },
  {
   "cell_type": "code",
   "execution_count": 12,
   "id": "7e895089",
   "metadata": {},
   "outputs": [
    {
     "name": "stdout",
     "output_type": "stream",
     "text": [
      "ham\n",
      "spam\n",
      "spam\n"
     ]
    }
   ],
   "source": [
    "# 7. Identify the three blocks in this code:\n",
    "spam = 0\n",
    "if spam == 10:\n",
    "    print('eggs') #Block 1\n",
    "if spam > 5:\n",
    "    print('bacon') #Block 2\n",
    "else:\n",
    "    print('ham') #Block 3\n",
    "    print('spam')\n",
    "    print('spam')\n"
   ]
  },
  {
   "cell_type": "code",
   "execution_count": 14,
   "id": "e39eb284",
   "metadata": {},
   "outputs": [
    {
     "name": "stdout",
     "output_type": "stream",
     "text": [
      "Input a no.4\n",
      "Greetings!\n"
     ]
    }
   ],
   "source": [
    "# 8. Write code that prints Hello if 1 is stored in spam, prints Howdy if 2 is stored in spam, and prints Greetings! if anything else is stored in spam.\n",
    "spam = int(input(\"Input a no.\"))\n",
    "if spam == 1:\n",
    "    print(\"Hello\")\n",
    "elif spam == 2:\n",
    "    print(\"Howdy\")\n",
    "else:\n",
    "    print(\"Greetings!\")\n",
    "        "
   ]
  },
  {
   "cell_type": "code",
   "execution_count": 15,
   "id": "545fc195",
   "metadata": {},
   "outputs": [
    {
     "data": {
      "text/plain": [
       "'ans. ctrl+c '"
      ]
     },
     "execution_count": 15,
     "metadata": {},
     "output_type": "execute_result"
    }
   ],
   "source": [
    "# 9.If your programme is stuck in an endless loop, what keys you’ll press?\n",
    "'''ans. ctrl+c '''"
   ]
  },
  {
   "cell_type": "code",
   "execution_count": 16,
   "id": "afdae461",
   "metadata": {},
   "outputs": [
    {
     "name": "stdout",
     "output_type": "stream",
     "text": [
      "0\n",
      "1\n",
      "2\n"
     ]
    }
   ],
   "source": [
    "# 10. How can you tell the difference between break and continue?\n",
    "'''Ans . The break statement will move the execution outside and just after a loop. The continue statement will move the execution to the start of the loop for example :'''\n",
    "# break example\n",
    "for i in range(5):\n",
    "    if(i==3):\n",
    "        break\n",
    "    print(i)"
   ]
  },
  {
   "cell_type": "code",
   "execution_count": 18,
   "id": "a44e5a7c",
   "metadata": {},
   "outputs": [
    {
     "name": "stdout",
     "output_type": "stream",
     "text": [
      "0\n",
      "1\n",
      "2\n",
      "4\n"
     ]
    }
   ],
   "source": [
    "# continue example\n",
    "for i in range(5):\n",
    "    if(i==3):\n",
    "        continue\n",
    "    print(i)\n",
    "    "
   ]
  },
  {
   "cell_type": "code",
   "execution_count": 22,
   "id": "be5c3b81",
   "metadata": {},
   "outputs": [
    {
     "name": "stdout",
     "output_type": "stream",
     "text": [
      "0\n",
      "1\n",
      "2\n",
      "3\n",
      "4\n",
      "5\n",
      "6\n",
      "7\n",
      "8\n",
      "9\n"
     ]
    }
   ],
   "source": [
    "# 11. In a for loop, what is the difference between range(10), range(0, 10), and range(0, 10, 1)?\n",
    "'''ans. The range(10) call ranges from 0 up to (but not including) 10, range(0, 10) tells the loop to start at 0 and end at 9, and range(0, 10, 1) tells the loop to increase the variable by 1 on each iteration.'''\n",
    "# range(10) example\n",
    "for i in range(10):\n",
    "    print(i)"
   ]
  },
  {
   "cell_type": "code",
   "execution_count": 23,
   "id": "7928253e",
   "metadata": {},
   "outputs": [
    {
     "name": "stdout",
     "output_type": "stream",
     "text": [
      "0\n",
      "1\n",
      "2\n",
      "3\n",
      "4\n",
      "5\n",
      "6\n",
      "7\n",
      "8\n",
      "9\n"
     ]
    }
   ],
   "source": [
    "#example of range(0,10)\n",
    "for i in range(0, 10):\n",
    "    print(i)"
   ]
  },
  {
   "cell_type": "code",
   "execution_count": 24,
   "id": "7cd9aea3",
   "metadata": {},
   "outputs": [
    {
     "name": "stdout",
     "output_type": "stream",
     "text": [
      "0\n",
      "1\n",
      "2\n",
      "3\n",
      "4\n",
      "5\n",
      "6\n",
      "7\n",
      "8\n",
      "9\n"
     ]
    }
   ],
   "source": [
    "# example of range (0,10,1)\n",
    "for i in range(0, 10, 1):\n",
    "    print(i)"
   ]
  },
  {
   "cell_type": "code",
   "execution_count": 25,
   "id": "130016ad",
   "metadata": {},
   "outputs": [
    {
     "name": "stdout",
     "output_type": "stream",
     "text": [
      "1\n",
      "2\n",
      "3\n",
      "4\n",
      "5\n",
      "6\n",
      "7\n",
      "8\n",
      "9\n",
      "10\n"
     ]
    }
   ],
   "source": [
    "# 12. Write a short program that prints the numbers 1 to 10 using a for loop. Then write an equivalent program that prints the numbers 1 to 10 using a while loop.\n",
    "#Use of For Loop\n",
    "for i in range(1,11):\n",
    "    print(i)"
   ]
  },
  {
   "cell_type": "code",
   "execution_count": 26,
   "id": "679672bc",
   "metadata": {},
   "outputs": [
    {
     "name": "stdout",
     "output_type": "stream",
     "text": [
      "1\n",
      "2\n",
      "3\n",
      "4\n",
      "5\n",
      "6\n",
      "7\n",
      "8\n",
      "9\n",
      "10\n"
     ]
    }
   ],
   "source": [
    "#Use of while Loop\n",
    "a =1\n",
    "while a <= 10:\n",
    "    print(a)\n",
    "    a+=1"
   ]
  },
  {
   "cell_type": "code",
   "execution_count": 27,
   "id": "e6c7b1b1",
   "metadata": {},
   "outputs": [
    {
     "data": {
      "text/plain": [
       "'ans. spam.bacon()'"
      ]
     },
     "execution_count": 27,
     "metadata": {},
     "output_type": "execute_result"
    }
   ],
   "source": [
    "#Q13. If you had a function named bacon() inside a module named spam, how would you call it after importing spam?\n",
    "\n",
    "'''ans. spam.bacon()'''"
   ]
  },
  {
   "cell_type": "code",
   "execution_count": null,
   "id": "9760a665",
   "metadata": {},
   "outputs": [],
   "source": []
  },
  {
   "cell_type": "code",
   "execution_count": null,
   "id": "7c88d68d",
   "metadata": {},
   "outputs": [],
   "source": []
  },
  {
   "cell_type": "code",
   "execution_count": null,
   "id": "a9076e4a",
   "metadata": {},
   "outputs": [],
   "source": []
  },
  {
   "cell_type": "code",
   "execution_count": null,
   "id": "6a200ef3",
   "metadata": {},
   "outputs": [],
   "source": []
  }
 ],
 "metadata": {
  "kernelspec": {
   "display_name": "Python 3 (ipykernel)",
   "language": "python",
   "name": "python3"
  },
  "language_info": {
   "codemirror_mode": {
    "name": "ipython",
    "version": 3
   },
   "file_extension": ".py",
   "mimetype": "text/x-python",
   "name": "python",
   "nbconvert_exporter": "python",
   "pygments_lexer": "ipython3",
   "version": "3.10.4"
  }
 },
 "nbformat": 4,
 "nbformat_minor": 5
}
