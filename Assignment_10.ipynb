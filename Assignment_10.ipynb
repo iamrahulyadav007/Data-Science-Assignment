{
 "cells": [
  {
   "cell_type": "code",
   "execution_count": 2,
   "id": "4d674c98",
   "metadata": {},
   "outputs": [],
   "source": [
    "# 1. How do you distinguish between shutil.copy() and shutil.copytree()?\n",
    "# ans. shutil.copytree() will copy entire folder like branchers of trees (all files in it)\n",
    "# whereas shutil.copy() will copy only single folder"
   ]
  },
  {
   "cell_type": "code",
   "execution_count": 3,
   "id": "ffdcf7f0",
   "metadata": {},
   "outputs": [],
   "source": [
    "# 2. What function is used to rename files??\n",
    "# ans. First import os module then use os.rename() to rename a file."
   ]
  },
  {
   "cell_type": "code",
   "execution_count": null,
   "id": "323923cf",
   "metadata": {},
   "outputs": [],
   "source": [
    "# 3. What is the difference between the delete functions in the send2trash and shutil modules?\n",
    "# ans. send2trash sends file to recycle bin and shutil module deletes file permanantly."
   ]
  },
  {
   "cell_type": "code",
   "execution_count": 4,
   "id": "1d3d432a",
   "metadata": {},
   "outputs": [],
   "source": [
    "# 4.ZipFile objects have a close() method just like File objects’ close() method. What ZipFile method is equivalent to File objects’ open() method?\n",
    "# ans. to open or write to a zipfile we use 'w' as second argument similar to file objects open() like"
   ]
  },
  {
   "cell_type": "code",
   "execution_count": 5,
   "id": "598da813",
   "metadata": {},
   "outputs": [],
   "source": [
    "import zipfile\n",
    "file = zipfile.ZipFile(\"filename.zip\",'w')\n",
    "file.close()"
   ]
  },
  {
   "cell_type": "code",
   "execution_count": null,
   "id": "dda76c91",
   "metadata": {},
   "outputs": [],
   "source": [
    "# 5. Create a programme that searches a folder tree for files with a certain file extension (such as .pdf or .jpg). Copy these files from whatever location they are in to a new folder."
   ]
  },
  {
   "cell_type": "code",
   "execution_count": 7,
   "id": "513034d3",
   "metadata": {},
   "outputs": [
    {
     "name": "stdout",
     "output_type": "stream",
     "text": [
      "searching -- C:\\Users\\RAHUL\\Downloads\\Ds_full\\Data-Science-Assignment\\randomfolder for ['.pdf', '.jpg'] file\n"
     ]
    }
   ],
   "source": [
    "import os, shutil\n",
    "def search_and_copy(folder, extensions, destFolder):\n",
    "    folder = os.path.abspath(folder)\n",
    "    destFolder = os.path.abspath(destFolder)\n",
    "    print(f'searching -- {folder} for {extensions} file')\n",
    "    for foldername, subfolders, filenames in os.walk(folder):\n",
    "        for filename in filenames:\n",
    "            name, extension = os.path.splitext(filename)\n",
    "            if extension in extensions:\n",
    "                fileAbsPath = foldername + os.path.sep + filename\n",
    "                print('Coping', fileAbsPath, 'to', destFolder)\n",
    "                shutil.copy(fileAbsPath, destFolder)\n",
    "\n",
    "extensions = ['.pdf','.jpg']\n",
    "folder = 'randomfolder'\n",
    "destFolder = 'destination'\n",
    "search_and_copy(folder, extensions, destFolder)"
   ]
  },
  {
   "cell_type": "code",
   "execution_count": null,
   "id": "8242a9fa",
   "metadata": {},
   "outputs": [],
   "source": []
  },
  {
   "cell_type": "code",
   "execution_count": null,
   "id": "9667bf8f",
   "metadata": {},
   "outputs": [],
   "source": []
  },
  {
   "cell_type": "code",
   "execution_count": null,
   "id": "ac9c87e8",
   "metadata": {},
   "outputs": [],
   "source": []
  },
  {
   "cell_type": "code",
   "execution_count": null,
   "id": "898b0a55",
   "metadata": {},
   "outputs": [],
   "source": []
  },
  {
   "cell_type": "code",
   "execution_count": null,
   "id": "8728f85e",
   "metadata": {},
   "outputs": [],
   "source": []
  },
  {
   "cell_type": "code",
   "execution_count": null,
   "id": "6344d1d5",
   "metadata": {},
   "outputs": [],
   "source": []
  },
  {
   "cell_type": "code",
   "execution_count": null,
   "id": "13346dfc",
   "metadata": {},
   "outputs": [],
   "source": []
  }
 ],
 "metadata": {
  "kernelspec": {
   "display_name": "Python 3 (ipykernel)",
   "language": "python",
   "name": "python3"
  },
  "language_info": {
   "codemirror_mode": {
    "name": "ipython",
    "version": 3
   },
   "file_extension": ".py",
   "mimetype": "text/x-python",
   "name": "python",
   "nbconvert_exporter": "python",
   "pygments_lexer": "ipython3",
   "version": "3.9.12"
  }
 },
 "nbformat": 4,
 "nbformat_minor": 5
}
