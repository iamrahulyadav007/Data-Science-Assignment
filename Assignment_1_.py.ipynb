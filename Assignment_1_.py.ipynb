{
 "cells": [
  {
   "cell_type": "code",
   "execution_count": 4,
   "id": "3eed339f",
   "metadata": {},
   "outputs": [
    {
     "data": {
      "text/plain": [
       "\"1. In the below elements which of them are values or an expression? eg:- values can be\\ninteger or string and expressions will be mathematical operators.\\nAns : values - 'hello', -87.8, 6\\n      expression - *, -, /, +\""
      ]
     },
     "execution_count": 4,
     "metadata": {},
     "output_type": "execute_result"
    }
   ],
   "source": [
    "#question 1\n",
    "'''1. In the below elements which of them are values or an expression? eg:- values can be\n",
    "integer or string and expressions will be mathematical operators.\n",
    "Ans : values - 'hello', -87.8, 6\n",
    "      expression - *, -, /, +'''"
   ]
  },
  {
   "cell_type": "code",
   "execution_count": 7,
   "id": "c6bc08f9",
   "metadata": {},
   "outputs": [
    {
     "data": {
      "text/plain": [
       "'2. What is the difference between string and variable?\\nAns : String : string in python represent in single quotation, double quotation  and for the multiple line we will use three quotation\\nlike this \\'rahul\\', \"rahul\",\\n\"\"\" a\\nb \\nc \\n\"\"\"\\nvariable : use to storing data values like a = 7, a = \"Hello Rahul!\"'"
      ]
     },
     "execution_count": 7,
     "metadata": {},
     "output_type": "execute_result"
    }
   ],
   "source": [
    "# Question 2\n",
    "'''2. What is the difference between string and variable?\n",
    "Ans : String : string in python represent in single quotation, double quotation  and for the multiple line we will use three quotation\n",
    "like this 'rahul', \"rahul\",\n",
    "\"\"\" a\n",
    "b \n",
    "c \n",
    "\"\"\"\n",
    "variable : use to storing data values like a = 7, a = \"Hello Rahul!\"'''"
   ]
  },
  {
   "cell_type": "code",
   "execution_count": 8,
   "id": "191719ac",
   "metadata": {},
   "outputs": [
    {
     "data": {
      "text/plain": [
       "\"3. Describe three different data types.\\nAns. Strings : 'hello rahul', '45.76'\\n     Integers : 234, 9887\\n     Floats : 3.567\\n     booleans : True, False\""
      ]
     },
     "execution_count": 8,
     "metadata": {},
     "output_type": "execute_result"
    }
   ],
   "source": [
    "# Question 3\n",
    "'''3. Describe three different data types.\n",
    "Ans. Strings : 'hello rahul', '45.76'\n",
    "     Integers : 234, 9887\n",
    "     Floats : 3.567\n",
    "     booleans : True, False'''"
   ]
  },
  {
   "cell_type": "code",
   "execution_count": 9,
   "id": "6194ce63",
   "metadata": {},
   "outputs": [
    {
     "data": {
      "text/plain": [
       "'Ans. An expression is made of operators and operands and all expressions produce some other value.'"
      ]
     },
     "execution_count": 9,
     "metadata": {},
     "output_type": "execute_result"
    }
   ],
   "source": [
    "# 4. What is an expression made up of? What do all expressions do?\n",
    "'''Ans. An expression is made of operators and operands and all expressions produce some other value.'''"
   ]
  },
  {
   "cell_type": "code",
   "execution_count": 10,
   "id": "1c140878",
   "metadata": {},
   "outputs": [
    {
     "data": {
      "text/plain": [
       "'Ans. An expression is something that can be reduced to a value, for example \"1+3\" is an expression and print(spam =10) is a statement'"
      ]
     },
     "execution_count": 10,
     "metadata": {},
     "output_type": "execute_result"
    }
   ],
   "source": [
    "# 5. This assignment statements, like spam = 10. What is the difference between an expression and a statement?\n",
    "'''Ans. An expression is something that can be reduced to a value, for example \"1+3\" is an expression and print(spam =10) is a statement'''"
   ]
  },
  {
   "cell_type": "code",
   "execution_count": 13,
   "id": "94a3abe8",
   "metadata": {},
   "outputs": [
    {
     "data": {
      "text/plain": [
       "'Ans. 23'"
      ]
     },
     "execution_count": 13,
     "metadata": {},
     "output_type": "execute_result"
    }
   ],
   "source": [
    "#6. After running the following code, what does the variable bacon contain? bacon = 22 bacon + 1\n",
    "'''Ans. 23'''"
   ]
  },
  {
   "cell_type": "code",
   "execution_count": 16,
   "id": "3db38d01",
   "metadata": {},
   "outputs": [
    {
     "data": {
      "text/plain": [
       "\"Ans. 'spam'+ 'spamspam' = spamspamspam\\n     'spam'* 3 = spamspamspam\\n\""
      ]
     },
     "execution_count": 16,
     "metadata": {},
     "output_type": "execute_result"
    }
   ],
   "source": [
    "# 7. What should the values of the following two terms be?\n",
    "'''Ans. 'spam'+ 'spamspam' = spamspamspam\n",
    "     'spam'* 3 = spamspamspam\n",
    "'''"
   ]
  },
  {
   "cell_type": "code",
   "execution_count": 17,
   "id": "4ef6c580",
   "metadata": {},
   "outputs": [
    {
     "data": {
      "text/plain": [
       "'ans. Because variable names cannot begin with a number.'"
      ]
     },
     "execution_count": 17,
     "metadata": {},
     "output_type": "execute_result"
    }
   ],
   "source": [
    "# 8. Why is eggs a valid variable name while 100 is invalid?\n",
    "'''ans. Because variable names cannot begin with a number.'''"
   ]
  },
  {
   "cell_type": "code",
   "execution_count": 18,
   "id": "83ecfa51",
   "metadata": {},
   "outputs": [
    {
     "data": {
      "text/plain": [
       "'ans. for integer - int()\\n     for floating - float()\\n     for string - str()'"
      ]
     },
     "execution_count": 18,
     "metadata": {},
     "output_type": "execute_result"
    }
   ],
   "source": [
    "# 9. What three functions can be used to get the integer, floating-point number, or string version of a value?\n",
    "'''ans. for integer - int()\n",
    "     for floating - float()\n",
    "     for string - str()'''"
   ]
  },
  {
   "cell_type": "code",
   "execution_count": 22,
   "id": "64f4b9a4",
   "metadata": {},
   "outputs": [
    {
     "ename": "SyntaxError",
     "evalue": "unterminated string literal (detected at line 4) (2498146570.py, line 4)",
     "output_type": "error",
     "traceback": [
      "\u001b[1;36m  Input \u001b[1;32mIn [22]\u001b[1;36m\u001b[0m\n\u001b[1;33m    'I have eaten ' + '99' +' burritos.''''\u001b[0m\n\u001b[1;37m                                          ^\u001b[0m\n\u001b[1;31mSyntaxError\u001b[0m\u001b[1;31m:\u001b[0m unterminated string literal (detected at line 4)\n"
     ]
    }
   ],
   "source": [
    "# 10. Why does this expression cause an error? How can you fix it? 'I have eaten ' + 99 +' burritos.'\n",
    "'''ans. error is - TypeError: can only concatenate str (not \"int\") to str\n",
    "    By converting 99 to string we can resolve it like this\n",
    "    'I have eaten ' + '99' +' burritos.''''"
   ]
  },
  {
   "cell_type": "code",
   "execution_count": null,
   "id": "cb9f8a9b",
   "metadata": {},
   "outputs": [],
   "source": []
  },
  {
   "cell_type": "code",
   "execution_count": null,
   "id": "735b91d3",
   "metadata": {},
   "outputs": [],
   "source": []
  }
 ],
 "metadata": {
  "kernelspec": {
   "display_name": "Python 3 (ipykernel)",
   "language": "python",
   "name": "python3"
  },
  "language_info": {
   "codemirror_mode": {
    "name": "ipython",
    "version": 3
   },
   "file_extension": ".py",
   "mimetype": "text/x-python",
   "name": "python",
   "nbconvert_exporter": "python",
   "pygments_lexer": "ipython3",
   "version": "3.10.4"
  }
 },
 "nbformat": 4,
 "nbformat_minor": 5
}
